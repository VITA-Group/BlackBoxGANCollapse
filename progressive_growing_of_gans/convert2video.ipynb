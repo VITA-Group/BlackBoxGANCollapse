{
 "cells": [
  {
   "cell_type": "code",
   "execution_count": 1,
   "metadata": {},
   "outputs": [],
   "source": [
    "import os\n",
    "import glob\n",
    "from natsort import natsorted\n",
    "from moviepy.editor import *"
   ]
  },
  {
   "cell_type": "code",
   "execution_count": 2,
   "metadata": {},
   "outputs": [
    {
     "name": "stdout",
     "output_type": "stream",
     "text": [
      "['ffhq-r1-l0/fakes000000.png', 'ffhq-r1-l0/fakes000010.png', 'ffhq-r1-l0/fakes000020.png', 'ffhq-r1-l0/fakes000030.png', 'ffhq-r1-l0/fakes000040.png', 'ffhq-r1-l0/fakes000050.png', 'ffhq-r1-l0/fakes000060.png', 'ffhq-r1-l0/fakes000070.png', 'ffhq-r1-l0/fakes000080.png', 'ffhq-r1-l0/fakes000090.png', 'ffhq-r1-l0/fakes000100.png', 'ffhq-r1-l0/fakes000110.png', 'ffhq-r1-l0/fakes000120.png', 'ffhq-r1-l0/fakes000130.png', 'ffhq-r1-l0/fakes000140.png', 'ffhq-r1-l0/fakes000150.png', 'ffhq-r1-l0/fakes000160.png', 'ffhq-r1-l0/fakes000170.png', 'ffhq-r1-l0/fakes000180.png', 'ffhq-r1-l0/fakes000190.png', 'ffhq-r1-l0/fakes000200.png', 'ffhq-r1-l0/fakes000210.png', 'ffhq-r1-l0/fakes000220.png', 'ffhq-r1-l0/fakes000230.png', 'ffhq-r1-l0/fakes000240.png', 'ffhq-r1-l0/fakes000250.png', 'ffhq-r1-l0/fakes000260.png', 'ffhq-r1-l0/fakes000270.png', 'ffhq-r1-l0/fakes000280.png', 'ffhq-r1-l0/fakes000290.png', 'ffhq-r1-l0/fakes000300.png', 'ffhq-r1-l0/fakes000310.png', 'ffhq-r1-l0/fakes000320.png', 'ffhq-r1-l0/fakes000330.png', 'ffhq-r1-l0/fakes000340.png', 'ffhq-r1-l0/fakes000350.png', 'ffhq-r1-l0/fakes000360.png', 'ffhq-r1-l0/fakes000370.png', 'ffhq-r1-l0/fakes000380.png', 'ffhq-r1-l0/fakes000390.png', 'ffhq-r1-l0/fakes000400.png', 'ffhq-r1-l0/fakes000410.png', 'ffhq-r1-l0/fakes000420.png', 'ffhq-r1-l0/fakes000430.png', 'ffhq-r1-l0/fakes000440.png', 'ffhq-r1-l0/fakes000450.png', 'ffhq-r1-l0/fakes000460.png', 'ffhq-r1-l0/fakes000470.png', 'ffhq-r1-l0/fakes000480.png', 'ffhq-r1-l0/fakes000490.png', 'ffhq-r1-l0/fakes000500.png', 'ffhq-r1-l0/fakes000510.png', 'ffhq-r1-l0/fakes000520.png', 'ffhq-r1-l0/fakes000530.png', 'ffhq-r1-l0/fakes000540.png', 'ffhq-r1-l0/fakes000550.png', 'ffhq-r1-l0/fakes000560.png', 'ffhq-r1-l0/fakes000570.png', 'ffhq-r1-l0/fakes000580.png', 'ffhq-r1-l0/fakes000590.png', 'ffhq-r1-l0/fakes000600.png', 'ffhq-r1-l0/fakes000610.png', 'ffhq-r1-l0/fakes000620.png', 'ffhq-r1-l0/fakes000630.png', 'ffhq-r1-l0/fakes000640.png', 'ffhq-r1-l0/fakes000650.png', 'ffhq-r1-l0/fakes000660.png', 'ffhq-r1-l0/fakes000670.png', 'ffhq-r1-l0/fakes000680.png', 'ffhq-r1-l0/fakes000690.png', 'ffhq-r1-l0/fakes000700.png', 'ffhq-r1-l0/fakes000710.png', 'ffhq-r1-l0/fakes000720.png', 'ffhq-r1-l0/fakes000730.png', 'ffhq-r1-l0/fakes000740.png', 'ffhq-r1-l0/fakes000750.png', 'ffhq-r1-l0/fakes000760.png', 'ffhq-r1-l0/fakes000770.png', 'ffhq-r1-l0/fakes000780.png', 'ffhq-r1-l0/fakes000790.png', 'ffhq-r1-l0/fakes000800.png', 'ffhq-r1-l0/fakes000810.png', 'ffhq-r1-l0/fakes000820.png', 'ffhq-r1-l0/fakes000830.png', 'ffhq-r1-l0/fakes000840.png', 'ffhq-r1-l0/fakes000850.png', 'ffhq-r1-l0/fakes000860.png', 'ffhq-r1-l0/fakes000870.png', 'ffhq-r1-l0/fakes000880.png', 'ffhq-r1-l0/fakes000890.png', 'ffhq-r1-l0/fakes000900.png', 'ffhq-r1-l0/fakes000910.png', 'ffhq-r1-l0/fakes000920.png', 'ffhq-r1-l0/fakes000930.png', 'ffhq-r1-l0/fakes000940.png', 'ffhq-r1-l0/fakes000950.png', 'ffhq-r1-l0/fakes000960.png', 'ffhq-r1-l0/fakes000970.png', 'ffhq-r1-l0/fakes000980.png', 'ffhq-r1-l0/fakes000990.png', 'ffhq-r1-l0/fakes001000.png', 'ffhq-r1-l0/fakes001010.png', 'ffhq-r1-l0/fakes001020.png', 'ffhq-r1-l0/fakes001030.png', 'ffhq-r1-l0/fakes001040.png', 'ffhq-r1-l0/fakes001050.png', 'ffhq-r1-l0/fakes001060.png', 'ffhq-r1-l0/fakes001070.png', 'ffhq-r1-l0/fakes001080.png', 'ffhq-r1-l0/fakes001090.png', 'ffhq-r1-l0/fakes001100.png', 'ffhq-r1-l0/fakes001110.png', 'ffhq-r1-l0/fakes001120.png', 'ffhq-r1-l0/fakes001130.png', 'ffhq-r1-l0/fakes001140.png', 'ffhq-r1-l0/fakes001150.png', 'ffhq-r1-l0/fakes001160.png', 'ffhq-r1-l0/fakes001170.png', 'ffhq-r1-l0/fakes001180.png', 'ffhq-r1-l0/fakes001190.png', 'ffhq-r1-l0/fakes001200.png', 'ffhq-r1-l0/fakes001210.png', 'ffhq-r1-l0/fakes001220.png', 'ffhq-r1-l0/fakes001230.png', 'ffhq-r1-l0/fakes001240.png', 'ffhq-r1-l0/fakes001250.png', 'ffhq-r1-l0/fakes001260.png', 'ffhq-r1-l0/fakes001270.png', 'ffhq-r1-l0/fakes001280.png', 'ffhq-r1-l0/fakes001290.png', 'ffhq-r1-l0/fakes001300.png', 'ffhq-r1-l0/fakes001310.png', 'ffhq-r1-l0/fakes001320.png', 'ffhq-r1-l0/fakes001330.png', 'ffhq-r1-l0/fakes001340.png', 'ffhq-r1-l0/fakes001350.png', 'ffhq-r1-l0/fakes001360.png', 'ffhq-r1-l0/fakes001370.png', 'ffhq-r1-l0/fakes001380.png', 'ffhq-r1-l0/fakes001390.png', 'ffhq-r1-l0/fakes001400.png', 'ffhq-r1-l0/fakes001410.png', 'ffhq-r1-l0/fakes001420.png', 'ffhq-r1-l0/fakes001430.png', 'ffhq-r1-l0/fakes001440.png', 'ffhq-r1-l0/fakes001450.png', 'ffhq-r1-l0/fakes001460.png', 'ffhq-r1-l0/fakes001470.png', 'ffhq-r1-l0/fakes001480.png', 'ffhq-r1-l0/fakes001490.png', 'ffhq-r1-l0/fakes001500.png', 'ffhq-r1-l0/fakes001510.png', 'ffhq-r1-l0/fakes001520.png', 'ffhq-r1-l0/fakes001530.png', 'ffhq-r1-l0/fakes001540.png', 'ffhq-r1-l0/fakes001550.png', 'ffhq-r1-l0/fakes001560.png', 'ffhq-r1-l0/fakes001570.png', 'ffhq-r1-l0/fakes001580.png', 'ffhq-r1-l0/fakes001590.png', 'ffhq-r1-l0/fakes001600.png', 'ffhq-r1-l0/fakes001610.png', 'ffhq-r1-l0/fakes001620.png', 'ffhq-r1-l0/fakes001630.png', 'ffhq-r1-l0/fakes001640.png', 'ffhq-r1-l0/fakes001650.png', 'ffhq-r1-l0/fakes001660.png', 'ffhq-r1-l0/fakes001670.png', 'ffhq-r1-l0/fakes001680.png', 'ffhq-r1-l0/fakes001690.png', 'ffhq-r1-l0/fakes001700.png', 'ffhq-r1-l0/fakes001710.png', 'ffhq-r1-l0/fakes001720.png', 'ffhq-r1-l0/fakes001730.png', 'ffhq-r1-l0/fakes001740.png', 'ffhq-r1-l0/fakes001750.png', 'ffhq-r1-l0/fakes001760.png', 'ffhq-r1-l0/fakes001770.png', 'ffhq-r1-l0/fakes001780.png', 'ffhq-r1-l0/fakes001790.png', 'ffhq-r1-l0/fakes001800.png', 'ffhq-r1-l0/fakes001810.png', 'ffhq-r1-l0/fakes001820.png', 'ffhq-r1-l0/fakes001830.png', 'ffhq-r1-l0/fakes001840.png', 'ffhq-r1-l0/fakes001850.png', 'ffhq-r1-l0/fakes001860.png', 'ffhq-r1-l0/fakes001870.png', 'ffhq-r1-l0/fakes001880.png', 'ffhq-r1-l0/fakes001890.png', 'ffhq-r1-l0/fakes001900.png', 'ffhq-r1-l0/fakes001910.png', 'ffhq-r1-l0/fakes001920.png', 'ffhq-r1-l0/fakes001930.png', 'ffhq-r1-l0/fakes001940.png', 'ffhq-r1-l0/fakes001950.png', 'ffhq-r1-l0/fakes001960.png', 'ffhq-r1-l0/fakes001970.png', 'ffhq-r1-l0/fakes001980.png', 'ffhq-r1-l0/fakes001990.png']\n"
     ]
    }
   ],
   "source": [
    "#base_dir = os.path.realpath(\"./images\")\n",
    "#print(base_dir)\n",
    "\n",
    "#gif_name = 'pic'\n",
    "fps = 10\n",
    "\n",
    "file_list = glob.glob('ffhq-r1-l0/*.png')  # Get all the pngs in the current directory\n",
    "#file_list_sorted = natsorted(file_list,reverse=False)  # Sort the images\n",
    "import re\n",
    "r = re.compile(r'(fakes\\d+\\.png)')\n",
    "file_list_sorted = sorted(file_list, key=lambda x:r.search(x).group(1))\n",
    "print(file_list_sorted)"
   ]
  },
  {
   "cell_type": "code",
   "execution_count": 3,
   "metadata": {},
   "outputs": [],
   "source": [
    "file_list_sorted = file_list_sorted[0:len(file_list_sorted)//2]\n",
    "#print(len(file_list_sorted))"
   ]
  },
  {
   "cell_type": "code",
   "execution_count": 4,
   "metadata": {},
   "outputs": [],
   "source": [
    "clips = [ImageClip(m).set_duration(0.1)\n",
    "         for m in file_list_sorted]"
   ]
  },
  {
   "cell_type": "code",
   "execution_count": 5,
   "metadata": {},
   "outputs": [
    {
     "name": "stdout",
     "output_type": "stream",
     "text": [
      "100\n"
     ]
    }
   ],
   "source": [
    "print(len(clips))"
   ]
  },
  {
   "cell_type": "code",
   "execution_count": 6,
   "metadata": {
    "scrolled": true
   },
   "outputs": [
    {
     "name": "stderr",
     "output_type": "stream",
     "text": [
      "\r",
      "t:   0%|          | 0/100 [00:00<?, ?it/s, now=None]"
     ]
    },
    {
     "name": "stdout",
     "output_type": "stream",
     "text": [
      "Moviepy - Building video FFHQ-r1-l0.mp4.\n",
      "Moviepy - Writing video FFHQ-r1-l0.mp4\n",
      "\n"
     ]
    },
    {
     "name": "stderr",
     "output_type": "stream",
     "text": [
      "                                                              \r"
     ]
    },
    {
     "name": "stdout",
     "output_type": "stream",
     "text": [
      "Moviepy - Done !\n",
      "Moviepy - video ready FFHQ-r1-l0.mp4\n"
     ]
    }
   ],
   "source": [
    "concat_clip = concatenate_videoclips(clips, method=\"compose\")\n",
    "concat_clip.write_videofile(\"FFHQ-r1-l0.mp4\", fps=fps)"
   ]
  }
 ],
 "metadata": {
  "kernelspec": {
   "display_name": "Python 3",
   "language": "python",
   "name": "python3"
  },
  "language_info": {
   "codemirror_mode": {
    "name": "ipython",
    "version": 3
   },
   "file_extension": ".py",
   "mimetype": "text/x-python",
   "name": "python",
   "nbconvert_exporter": "python",
   "pygments_lexer": "ipython3",
   "version": "3.5.6"
  }
 },
 "nbformat": 4,
 "nbformat_minor": 2
}
