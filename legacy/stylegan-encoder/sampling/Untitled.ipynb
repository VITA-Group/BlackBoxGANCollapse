{
 "cells": [
  {
   "cell_type": "code",
   "execution_count": null,
   "metadata": {},
   "outputs": [],
   "source": [
    "import os\n",
    "import pickle\n",
    "\n",
    "pkls = []\n",
    "for root, dirs, files in os.walk(path):\n",
    "    if len(files) != 0:\n",
    "        pkls.extend([os.path.join(root, file) for file in files])\n",
    "#pkls = os.listdir(path)\n",
    "pkls.sort(key=lambda txt: grep(r\"(\\d+)_(\\d+)\\.pkl\", txt, 1))\n",
    "print(pkls)\n",
    "A_lst = []\n",
    "for pkl in pkls:\n",
    "    print(pkl)\n",
    "    with open(pkl, 'rb') as handle:\n",
    "        samples = pickle.load(handle)\n",
    "        print()"
   ]
  }
 ],
 "metadata": {
  "kernelspec": {
   "display_name": "Python 3",
   "language": "python",
   "name": "python3"
  },
  "language_info": {
   "codemirror_mode": {
    "name": "ipython",
    "version": 3
   },
   "file_extension": ".py",
   "mimetype": "text/x-python",
   "name": "python",
   "nbconvert_exporter": "python",
   "pygments_lexer": "ipython3",
   "version": "3.6.2"
  }
 },
 "nbformat": 4,
 "nbformat_minor": 2
}
