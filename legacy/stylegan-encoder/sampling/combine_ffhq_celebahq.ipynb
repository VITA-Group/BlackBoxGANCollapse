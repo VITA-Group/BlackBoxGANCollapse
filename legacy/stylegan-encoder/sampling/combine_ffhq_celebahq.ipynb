{
 "cells": [
  {
   "cell_type": "code",
   "execution_count": null,
   "metadata": {},
   "outputs": [],
   "source": [
    "import os\n",
    "import shutil\n",
    "import random\n",
    "import pickle\n",
    "\n",
    "ffhq_races_dict = pickle.load(open('ffhq-dataset/fname_race_dict.pkl', 'rb'))\n",
    "ffhq_white_count, ffhq_black_count, ffhq_asian_count = 0, 0, 0\n",
    "ffhq_white, ffhq_black, ffhq_asian = [], [], []\n",
    "for fname, race in ffhq_races_dict.items():\n",
    "    if '06540.png' in fname:\n",
    "        continue\n",
    "    path_fname = os.path.join('ffhq-dataset/images1024x1024', fname.split('/')[-1])\n",
    "    if race == 'Black':\n",
    "        ffhq_black_count += 1\n",
    "        ffhq_black.append(path_fname)\n",
    "    elif race == 'White':\n",
    "        ffhq_white_count += 1\n",
    "        ffhq_white.append(path_fname)\n",
    "    else:\n",
    "        ffhq_asian_count += 1\n",
    "        ffhq_asian.append(path_fname)\n",
    "\n",
    "celebahq_races_dict = pickle.load(open('celebahq-dataset/fname_race_dict.pkl', 'rb'))\n",
    "celebahq_white_count, celebahq_black_count, celebahq_asian_count = 0, 0, 0\n",
    "celebahq_white, celebahq_black, celebahq_asian = [], [], []\n",
    "for fname, race in celebahq_races_dict.items():\n",
    "    path_fname = os.path.join('celebahq-dataset/img_celebahq', fname.split('/')[-1])\n",
    "    if race == 'Black':\n",
    "        celebahq_black_count += 1\n",
    "        celebahq_black.append(path_fname)\n",
    "    elif race == 'White':\n",
    "        celebahq_white_count += 1\n",
    "        celebahq_white.append(path_fname)\n",
    "    else:\n",
    "        celebahq_asian_count += 1\n",
    "        celebahq_asian.append(path_fname)"
   ]
  },
  {
   "cell_type": "code",
   "execution_count": null,
   "metadata": {},
   "outputs": [],
   "source": [
    "black = ffhq_black + celebahq_black\n",
    "asian = ffhq_asian + celebahq_asian\n",
    "white = ffhq_white + celebahq_white"
   ]
  },
  {
   "cell_type": "code",
   "execution_count": null,
   "metadata": {},
   "outputs": [],
   "source": [
    "save_dir = 'celebahq-ffhq-cbd'\n",
    "if not os.path.exists(save_dir):\n",
    "    os.makedirs(save_dir)"
   ]
  },
  {
   "cell_type": "code",
   "execution_count": null,
   "metadata": {},
   "outputs": [],
   "source": [
    "count = min(len(black), len(asian), len(white))\n",
    "k = 0\n",
    "for i in random.sample(range(len(black)), count):\n",
    "    shutil.move(black[i], os.path.join(save_dir, '{:06d}.png'.format(k)))\n",
    "    k += 1\n",
    "for i in random.sample(range(len(asian)), count):\n",
    "    shutil.move(asian[i], os.path.join(save_dir, '{:06d}.png'.format(k)))\n",
    "    k += 1\n",
    "for i in random.sample(range(len(white)), count):\n",
    "    shutil.move(white[i], os.path.join(save_dir, '{:06d}.png'.format(k)))\n",
    "    k += 1"
   ]
  }
 ],
 "metadata": {
  "kernelspec": {
   "display_name": "Python 3",
   "language": "python",
   "name": "python3"
  },
  "language_info": {
   "codemirror_mode": {
    "name": "ipython",
    "version": 3
   },
   "file_extension": ".py",
   "mimetype": "text/x-python",
   "name": "python",
   "nbconvert_exporter": "python",
   "pygments_lexer": "ipython3",
   "version": "3.6.2"
  }
 },
 "nbformat": 4,
 "nbformat_minor": 2
}
