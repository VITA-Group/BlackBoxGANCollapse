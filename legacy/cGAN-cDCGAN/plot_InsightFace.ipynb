{
 "cells": [
  {
   "cell_type": "code",
   "execution_count": 9,
   "metadata": {},
   "outputs": [],
   "source": [
    "import matplotlib.pyplot as plt\n",
    "import pickle\n",
    "import numpy as np\n",
    "\n",
    "with open('true_lst.pkl', 'rb') as handle:\n",
    "    true_lst = pickle.load(handle)\n",
    "    #true_lst = [ele/len(true_lst) for ele in true_lst]\n",
    "with open('false_lst.pkl', 'rb') as handle:\n",
    "    false_lst = pickle.load(handle)\n",
    "    #false_lst = [ele/len(false_lst) for ele in false_lst]\n",
    "bins = np.linspace(0, 1, 100)"
   ]
  },
  {
   "cell_type": "code",
   "execution_count": 11,
   "metadata": {},
   "outputs": [
    {
     "name": "stderr",
     "output_type": "stream",
     "text": [
      "/home/wuzhenyu_sjtu/anaconda3/envs/tensorflow-1.3.0/lib/python3.6/site-packages/matplotlib/axes/_axes.py:6499: MatplotlibDeprecationWarning: \n",
      "The 'normed' kwarg was deprecated in Matplotlib 2.1 and will be removed in 3.1. Use 'density' instead.\n",
      "  alternative=\"'density'\", removal=\"3.1\")\n"
     ]
    },
    {
     "data": {
      "image/png": "[encoded data removed]",
      "text/plain": [
       "<Figure size 432x288 with 1 Axes>"
      ]
     },
     "metadata": {},
     "output_type": "display_data"
    }
   ],
   "source": [
    "plt.hist([true_lst, false_lst], normed=False, bins=bins, color=['r', 'b'], label=['Same','Different'])\n",
    "plt.legend(loc='upper right')\n",
    "plt.ylabel('Count');\n",
    "plt.xlabel('Cosine Distance')\n",
    "plt.savefig('InsightFace', dpi=300)"
   ]
  }
 ],
 "metadata": {
  "kernelspec": {
   "display_name": "Python 3",
   "language": "python",
   "name": "python3"
  },
  "language_info": {
   "codemirror_mode": {
    "name": "ipython",
    "version": 3
   },
   "file_extension": ".py",
   "mimetype": "text/x-python",
   "name": "python",
   "nbconvert_exporter": "python",
   "pygments_lexer": "ipython3",
   "version": "3.6.2"
  }
 },
 "nbformat": 4,
 "nbformat_minor": 2
}
