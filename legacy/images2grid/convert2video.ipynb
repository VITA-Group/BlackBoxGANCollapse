{
 "cells": [
  {
   "cell_type": "code",
   "execution_count": 1,
   "metadata": {},
   "outputs": [],
   "source": [
    "import os\n",
    "import glob\n",
    "from natsort import natsorted\n",
    "from moviepy.editor import *\n",
    "import numpy as np\n",
    "import operator"
   ]
  },
  {
   "cell_type": "code",
   "execution_count": 20,
   "metadata": {},
   "outputs": [],
   "source": [
    "def cropND(img, bounding):\n",
    "    start = tuple(map(lambda a, da: a//2-da//2, img.shape, bounding))\n",
    "    end = tuple(map(operator.add, start, bounding))\n",
    "    slices = tuple(map(slice, start, end))\n",
    "    return img[slices]\n",
    "\n",
    "def create_image_grid(images, grid_size=None):\n",
    "    assert images.ndim == 3 or images.ndim == 4\n",
    "    num, img_w, img_h, img_d = images.shape[0], images.shape[1], images.shape[2], images.shape[3]\n",
    "\n",
    "    grid_w, grid_h = tuple(grid_size)\n",
    "\n",
    "    grid = np.zeros([grid_h * img_h, grid_w * img_w] + [img_d], dtype=images.dtype)\n",
    "    for idx in range(num):\n",
    "        x = (idx % grid_w) * img_w\n",
    "        y = (idx // grid_w) * img_h\n",
    "        grid[y : y + img_h, x : x + img_w, :] = images[idx]\n",
    "    return grid"
   ]
  },
  {
   "cell_type": "code",
   "execution_count": 21,
   "metadata": {},
   "outputs": [],
   "source": [
    "# CC_path = 'opt_w_subspace/generated_images/CELEBAHQ_pretrained/invert_CELEBAHQ/1'\n",
    "# CF_path = 'opt_w_subspace/generated_images/CELEBAHQ_pretrained/invert_FFHQ/1'\n",
    "# FC_path = 'opt_w_subspace/generated_images/FFHQ_pretrained/invert_CELEBAHQ/1'\n",
    "# FF_path = 'opt_w_subspace/generated_images/FFHQ_pretrained/invert_FFHQ/1'\n",
    "# F_path = 'ffhq-selected-combined'\n",
    "# C_path = 'celebahq-selected-combined'\n",
    "CC_path = 'reproducibility/CC'\n",
    "CF_path = 'reproducibility/CF'\n",
    "FC_path = 'reproducibility/FC'\n",
    "FF_path = 'reproducibility/FF'\n",
    "F_path = 'raw_images/ffhq'\n",
    "C_path = 'raw_images/celebahq'\n",
    "C_files_list = os.listdir(C_path)\n",
    "F_files_list = os.listdir(F_path)\n",
    "CC_files_list = os.listdir(CC_path)\n",
    "CF_files_list = os.listdir(CF_path)\n",
    "FC_files_list = os.listdir(FC_path)\n",
    "FF_files_list = os.listdir(FF_path)"
   ]
  },
  {
   "cell_type": "code",
   "execution_count": 22,
   "metadata": {},
   "outputs": [
    {
     "name": "stdout",
     "output_type": "stream",
     "text": [
      "['000035.png', '000301.png', '000334.png', '000375.png', '000476.png', '000610.png', '000663.png', '000833.png', '001025.png', '001225.png', '001322.png', '001678.png', '002206.png', '002349.png', '002623.png']\n",
      "['00000.png', '00064.png', '00251.png', '01097.png', '01414.png', '01547.png', '01569.png', '01921.png', '02111.png', '03347.png', '04639.png', '05914.png', '06209.png', '08620.png', '10209.png']\n",
      "['000035_44.png', '000301_11.png', '000334_5.png', '000375_81.png', '000476_48.png', '000610_79.png', '000663_77.png', '000833_19.png', '001025_7.png', '001225_93.png', '001322_14.png', '001678_65.png', '002206_32.png', '002349_71.png', '002623_93.png']\n",
      "['00000_59.png', '00064_5.png', '00251_84.png', '01097_14.png', '01414_56.png', '01547_98.png', '01569_42.png', '01921_43.png', '02111_47.png', '03347_31.png', '04639_23.png', '05914_46.png', '06209_97.png', '08620_21.png', '10209_71.png']\n",
      "['000035_74.png', '000301_29.png', '000334_73.png', '000375_63.png', '000476_88.png', '000610_47.png', '000663_14.png', '000833_38.png', '001025_95.png', '001225_67.png', '001322_81.png', '001678_29.png', '002206_85.png', '002349_2.png', '002623_68.png']\n",
      "['00000_12.png', '00064_34.png', '00251_28.png', '01097_50.png', '01414_19.png', '01547_50.png', '01569_92.png', '01921_5.png', '02111_13.png', '03347_69.png', '04639_50.png', '05914_90.png', '06209_0.png', '08620_85.png', '10209_6.png']\n"
     ]
    }
   ],
   "source": [
    "C_files_list.sort()\n",
    "print(C_files_list)\n",
    "F_files_list.sort()\n",
    "print(F_files_list)\n",
    "CC_files_list.sort()\n",
    "CF_files_list.sort()\n",
    "FC_files_list.sort()\n",
    "FF_files_list.sort()\n",
    "print(CC_files_list)\n",
    "print(CF_files_list)\n",
    "print(FC_files_list)\n",
    "print(FF_files_list)"
   ]
  },
  {
   "cell_type": "code",
   "execution_count": 23,
   "metadata": {},
   "outputs": [],
   "source": [
    "import matplotlib.pyplot as plt\n",
    "import matplotlib.image as mpimg"
   ]
  },
  {
   "cell_type": "code",
   "execution_count": 25,
   "metadata": {},
   "outputs": [
    {
     "name": "stdout",
     "output_type": "stream",
     "text": [
      "(800, 800, 3)\n",
      "(800, 800, 3)\n",
      "(800, 800, 3)\n",
      "(800, 800, 3)\n",
      "(800, 800, 3)\n",
      "(800, 800, 3)\n",
      "(800, 800, 3)\n",
      "(800, 800, 3)\n",
      "(800, 800, 3)\n",
      "(800, 800, 3)\n",
      "(800, 800, 3)\n",
      "(800, 800, 3)\n",
      "(800, 800, 3)\n",
      "(800, 800, 3)\n",
      "(800, 800, 3)\n",
      "(800, 800, 3)\n",
      "(800, 800, 3)\n",
      "(800, 800, 3)\n",
      "(800, 800, 3)\n",
      "(800, 800, 3)\n",
      "(800, 800, 3)\n",
      "(800, 800, 3)\n",
      "(800, 800, 3)\n",
      "(800, 800, 3)\n",
      "(800, 800, 3)\n",
      "(800, 800, 3)\n",
      "(800, 800, 3)\n",
      "(800, 800, 3)\n",
      "(800, 800, 3)\n",
      "(800, 800, 3)\n",
      "(800, 800, 3)\n",
      "(800, 800, 3)\n",
      "(800, 800, 3)\n",
      "(800, 800, 3)\n",
      "(800, 800, 3)\n",
      "(800, 800, 3)\n",
      "(800, 800, 3)\n",
      "(800, 800, 3)\n",
      "(800, 800, 3)\n",
      "(800, 800, 3)\n",
      "(800, 800, 3)\n",
      "(800, 800, 3)\n",
      "(800, 800, 3)\n",
      "(800, 800, 3)\n",
      "(800, 800, 3)\n",
      "(45, 800, 800, 3)\n",
      "(2400, 12000, 3)\n"
     ]
    }
   ],
   "source": [
    "save_images_dir = 'ffhq_grid_images'\n",
    "if not os.path.exists(save_images_dir):\n",
    "    os.makedirs(save_images_dir)\n",
    "img_F_lst = []\n",
    "img_CF_lst = []\n",
    "img_FF_lst = []\n",
    "for i in range(len(F_files_list)):\n",
    "    img_F = cropND(mpimg.imread(os.path.join(F_path, F_files_list[i])), (800, 800))\n",
    "    img_CF = cropND(mpimg.imread(os.path.join(CF_path, CF_files_list[i])), (800, 800))\n",
    "    img_FF = cropND(mpimg.imread(os.path.join(FF_path, FF_files_list[i])), (800, 800))\n",
    "    print(img_F.shape)\n",
    "    print(img_CF.shape)\n",
    "    print(img_FF.shape)\n",
    "    img_F_lst.append(img_F)\n",
    "    img_CF_lst.append(img_CF)\n",
    "    img_FF_lst.append(img_FF)\n",
    "image_stack = np.stack(img_F_lst+img_CF_lst+img_FF_lst,axis=0)\n",
    "print(image_stack.shape)\n",
    "image_grid = create_image_grid(image_stack, grid_size=(15,3))\n",
    "print(image_grid.shape)\n",
    "mpimg.imsave(os.path.join(save_images_dir, 'ffhq%06d.png' % i), image_grid)"
   ]
  },
  {
   "cell_type": "code",
   "execution_count": 25,
   "metadata": {},
   "outputs": [
    {
     "name": "stdout",
     "output_type": "stream",
     "text": [
      "['ffhq_grid_images/ffhq000000.png', 'ffhq_grid_images/ffhq000001.png', 'ffhq_grid_images/ffhq000002.png', 'ffhq_grid_images/ffhq000003.png', 'ffhq_grid_images/ffhq000004.png', 'ffhq_grid_images/ffhq000005.png', 'ffhq_grid_images/ffhq000006.png', 'ffhq_grid_images/ffhq000007.png', 'ffhq_grid_images/ffhq000008.png', 'ffhq_grid_images/ffhq000009.png', 'ffhq_grid_images/ffhq000010.png', 'ffhq_grid_images/ffhq000011.png', 'ffhq_grid_images/ffhq000012.png', 'ffhq_grid_images/ffhq000013.png', 'ffhq_grid_images/ffhq000014.png', 'ffhq_grid_images/ffhq000015.png', 'ffhq_grid_images/ffhq000016.png', 'ffhq_grid_images/ffhq000017.png', 'ffhq_grid_images/ffhq000018.png', 'ffhq_grid_images/ffhq000019.png', 'ffhq_grid_images/ffhq000020.png', 'ffhq_grid_images/ffhq000021.png', 'ffhq_grid_images/ffhq000022.png', 'ffhq_grid_images/ffhq000023.png', 'ffhq_grid_images/ffhq000024.png', 'ffhq_grid_images/ffhq000025.png', 'ffhq_grid_images/ffhq000026.png', 'ffhq_grid_images/ffhq000027.png', 'ffhq_grid_images/ffhq000028.png', 'ffhq_grid_images/ffhq000029.png', 'ffhq_grid_images/ffhq000030.png', 'ffhq_grid_images/ffhq000031.png', 'ffhq_grid_images/ffhq000032.png', 'ffhq_grid_images/ffhq000033.png', 'ffhq_grid_images/ffhq000034.png', 'ffhq_grid_images/ffhq000035.png', 'ffhq_grid_images/ffhq000036.png', 'ffhq_grid_images/ffhq000037.png', 'ffhq_grid_images/ffhq000038.png', 'ffhq_grid_images/ffhq000039.png', 'ffhq_grid_images/ffhq000040.png', 'ffhq_grid_images/ffhq000041.png', 'ffhq_grid_images/ffhq000042.png', 'ffhq_grid_images/ffhq000043.png', 'ffhq_grid_images/ffhq000044.png', 'ffhq_grid_images/ffhq000045.png', 'ffhq_grid_images/ffhq000046.png', 'ffhq_grid_images/ffhq000047.png', 'ffhq_grid_images/ffhq000048.png', 'ffhq_grid_images/ffhq000049.png', 'ffhq_grid_images/ffhq000050.png', 'ffhq_grid_images/ffhq000051.png', 'ffhq_grid_images/ffhq000052.png', 'ffhq_grid_images/ffhq000053.png', 'ffhq_grid_images/ffhq000054.png', 'ffhq_grid_images/ffhq000055.png', 'ffhq_grid_images/ffhq000056.png', 'ffhq_grid_images/ffhq000057.png', 'ffhq_grid_images/ffhq000058.png', 'ffhq_grid_images/ffhq000059.png', 'ffhq_grid_images/ffhq000060.png', 'ffhq_grid_images/ffhq000061.png', 'ffhq_grid_images/ffhq000062.png', 'ffhq_grid_images/ffhq000063.png', 'ffhq_grid_images/ffhq000064.png', 'ffhq_grid_images/ffhq000065.png', 'ffhq_grid_images/ffhq000066.png', 'ffhq_grid_images/ffhq000067.png', 'ffhq_grid_images/ffhq000068.png', 'ffhq_grid_images/ffhq000069.png', 'ffhq_grid_images/ffhq000070.png', 'ffhq_grid_images/ffhq000071.png', 'ffhq_grid_images/ffhq000072.png', 'ffhq_grid_images/ffhq000073.png', 'ffhq_grid_images/ffhq000074.png', 'ffhq_grid_images/ffhq000075.png', 'ffhq_grid_images/ffhq000076.png', 'ffhq_grid_images/ffhq000077.png', 'ffhq_grid_images/ffhq000078.png', 'ffhq_grid_images/ffhq000079.png', 'ffhq_grid_images/ffhq000080.png', 'ffhq_grid_images/ffhq000081.png', 'ffhq_grid_images/ffhq000082.png', 'ffhq_grid_images/ffhq000083.png', 'ffhq_grid_images/ffhq000084.png', 'ffhq_grid_images/ffhq000085.png', 'ffhq_grid_images/ffhq000086.png', 'ffhq_grid_images/ffhq000087.png', 'ffhq_grid_images/ffhq000088.png', 'ffhq_grid_images/ffhq000089.png', 'ffhq_grid_images/ffhq000090.png', 'ffhq_grid_images/ffhq000091.png', 'ffhq_grid_images/ffhq000092.png', 'ffhq_grid_images/ffhq000093.png', 'ffhq_grid_images/ffhq000094.png', 'ffhq_grid_images/ffhq000095.png', 'ffhq_grid_images/ffhq000096.png', 'ffhq_grid_images/ffhq000097.png', 'ffhq_grid_images/ffhq000098.png', 'ffhq_grid_images/ffhq000099.png']\n"
     ]
    }
   ],
   "source": [
    "#base_dir = os.path.realpath(\"./images\")\n",
    "#print(base_dir)\n",
    "\n",
    "#gif_name = 'pic'\n",
    "\n",
    "file_list = glob.glob(os.path.join(save_images_dir, '*.png'))  # Get all the pngs in the current directory\n",
    "#file_list_sorted = natsorted(file_list,reverse=False)  # Sort the images\n",
    "import re\n",
    "r = re.compile(r'(ffhq\\d+\\.png)')\n",
    "file_list_sorted = sorted(file_list, key=lambda x:r.search(x).group(1))\n",
    "print(file_list_sorted)"
   ]
  },
  {
   "cell_type": "code",
   "execution_count": 26,
   "metadata": {},
   "outputs": [],
   "source": [
    "fps = 1\n",
    "clips = [ImageClip(m).set_duration(1)\n",
    "         for m in file_list_sorted]"
   ]
  },
  {
   "cell_type": "code",
   "execution_count": 27,
   "metadata": {},
   "outputs": [
    {
     "name": "stdout",
     "output_type": "stream",
     "text": [
      "100\n"
     ]
    }
   ],
   "source": [
    "print(len(clips))"
   ]
  },
  {
   "cell_type": "code",
   "execution_count": 28,
   "metadata": {
    "scrolled": true
   },
   "outputs": [
    {
     "name": "stdout",
     "output_type": "stream",
     "text": [
      "Moviepy - Building video ffhq.mp4.\n",
      "Moviepy - Writing video ffhq.mp4\n",
      "\n"
     ]
    },
    {
     "name": "stderr",
     "output_type": "stream",
     "text": [
      "                                                              \r"
     ]
    },
    {
     "name": "stdout",
     "output_type": "stream",
     "text": [
      "Moviepy - Done !\n",
      "Moviepy - video ready ffhq.mp4\n"
     ]
    }
   ],
   "source": [
    "concat_clip = concatenate_videoclips(clips, method=\"compose\")\n",
    "concat_clip.write_videofile(\"ffhq.mp4\", fps=fps)"
   ]
  }
 ],
 "metadata": {
  "kernelspec": {
   "display_name": "Python 3",
   "language": "python",
   "name": "python3"
  },
  "language_info": {
   "codemirror_mode": {
    "name": "ipython",
    "version": 3
   },
   "file_extension": ".py",
   "mimetype": "text/x-python",
   "name": "python",
   "nbconvert_exporter": "python",
   "pygments_lexer": "ipython3",
   "version": "3.6.2"
  }
 },
 "nbformat": 4,
 "nbformat_minor": 2
}
