{
 "cells": [
  {
   "cell_type": "code",
   "execution_count": 3,
   "metadata": {},
   "outputs": [],
   "source": [
    "import os\n",
    "import glob\n",
    "import numpy as np\n",
    "import operator\n",
    "\n",
    "def create_image_grid(images, grid_size=None):\n",
    "    assert images.ndim == 3 or images.ndim == 4\n",
    "    num, img_w, img_h, img_d = images.shape[0], images.shape[1], images.shape[2], images.shape[3]\n",
    "\n",
    "    grid_w, grid_h = tuple(grid_size)\n",
    "\n",
    "    grid = np.zeros([grid_h * img_h, grid_w * img_w] + [img_d], dtype=images.dtype)\n",
    "    for idx in range(num):\n",
    "        x = (idx % grid_w) * img_w\n",
    "        y = (idx // grid_w) * img_h\n",
    "        grid[y : y + img_h, x : x + img_w, :] = images[idx]\n",
    "    return grid"
   ]
  },
  {
   "cell_type": "code",
   "execution_count": 6,
   "metadata": {},
   "outputs": [
    {
     "name": "stdout",
     "output_type": "stream",
     "text": [
      "['946191.png', '152179.png', '372408.png', '767744.png', '550058.png', '881535.png', '314352.png', '972217.png', '682611.png', '959273.png', '659272.png', '173103.png', '10369.png', '166391.png', '882595.png', '373136.png', '515266.png', '148878.png', '374605.png', '905103.png', '394131.png', '906136.png', '931291.png', '557633.png', '238973.png', '582685.png', '636602.png', '267133.png', '969085.png', '89048.png', '646160.png', '379198.png', '2167.png', '243032.png', '44348.png', '210215.png', '49438.png', '25428.png', '811136.png', '825874.png', '274303.png', '367760.png', '16292.png', '714441.png', '1179.png', '841216.png', '895492.png', '151173.png', '844120.png', '395652.png', '136930.png', '420527.png', '308535.png', '2769.png', '559177.png', '417681.png', '641330.png', '336604.png', '857794.png', '814170.png', '86391.png', '122298.png', '659583.png', '674174.png', '960595.png', '542690.png', '532753.png', '130109.png', '771718.png', '341290.png', '792495.png', '896862.png', '161076.png', '201581.png', '135682.png', '897275.png', '164458.png', '183391.png', '379778.png', '756501.png', '312333.png', '676146.png', '922839.png', '833580.png', '283822.png', '268868.png', '234079.png', '276924.png', '281712.png', '77588.png', '7933.png', '704672.png', '241389.png', '963455.png', '477989.png', '118752.png', '323364.png', '816520.png', '999837.png', '858162.png']\n"
     ]
    }
   ],
   "source": [
    "read_dir = 'sampling/monte_carlo_sampling_1m/neighbors/0.2/664058/collision/lerp'\n",
    "files = os.listdir(read_dir)\n",
    "print(files)"
   ]
  },
  {
   "cell_type": "code",
   "execution_count": 12,
   "metadata": {},
   "outputs": [
    {
     "name": "stdout",
     "output_type": "stream",
     "text": [
      "(100, 112, 112, 3)\n",
      "(1120, 1120, 3)\n"
     ]
    }
   ],
   "source": [
    "import matplotlib.pyplot as plt\n",
    "import matplotlib.image as mpimg\n",
    "\n",
    "save_images_dir = 'sampling/monte_carlo_sampling_1m/neighbors/0.2/664058/collision'\n",
    "if not os.path.exists(save_images_dir):\n",
    "    os.makedirs(save_images_dir)\n",
    "img_lst = []\n",
    "for i in range(len(files)):\n",
    "    img = mpimg.imread(os.path.join(read_dir, files[i]))\n",
    "    img_lst.append(img)\n",
    "    \n",
    "image_stack = np.stack(img_lst,axis=0)\n",
    "print(image_stack.shape)\n",
    "image_grid = create_image_grid(image_stack, grid_size=(10,5))\n",
    "print(image_grid.shape)\n",
    "mpimg.imsave(os.path.join(save_images_dir, '{}_{}.png'.format(read_dir.split('/')[-1], \n",
    "                          read_dir.split('/')[-1])), image_grid)"
   ]
  }
 ],
 "metadata": {
  "kernelspec": {
   "display_name": "Python 3",
   "language": "python",
   "name": "python3"
  },
  "language_info": {
   "codemirror_mode": {
    "name": "ipython",
    "version": 3
   },
   "file_extension": ".py",
   "mimetype": "text/x-python",
   "name": "python",
   "nbconvert_exporter": "python",
   "pygments_lexer": "ipython3",
   "version": "3.6.2"
  }
 },
 "nbformat": 4,
 "nbformat_minor": 2
}
