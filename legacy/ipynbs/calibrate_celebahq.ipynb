{
 "cells": [
  {
   "cell_type": "code",
   "execution_count": 2,
   "metadata": {},
   "outputs": [],
   "source": [
    "import os\n",
    "import numpy as np\n",
    "import pickle\n",
    "\n",
    "def get_idx_mapping():\n",
    "    iml_idx_dict = {}\n",
    "    with open('celeba/identity_CelebA.txt', 'r') as handle:\n",
    "        for line in handle:\n",
    "            iml, idx = line.strip().split()\n",
    "            iml_idx_dict[int(iml[:-4])] = int(idx)\n",
    "\n",
    "    imh_idx_dict = {}\n",
    "    with open('celeba/image_list.txt', 'r') as handle:\n",
    "        next(handle)\n",
    "        for line in handle:\n",
    "            imh, _, iml, _, _ = line.strip().split()\n",
    "            imh_idx_dict[int(imh)] = iml_idx_dict[int(iml[:-4])]\n",
    "    \n",
    "    return imh_idx_dict"
   ]
  },
  {
   "cell_type": "code",
   "execution_count": 10,
   "metadata": {},
   "outputs": [
    {
     "name": "stdout",
     "output_type": "stream",
     "text": [
      "28\n",
      "1\n"
     ]
    }
   ],
   "source": [
    "imh_idx_dict = get_idx_mapping()\n",
    "from collections import Counter\n",
    "counter = Counter(list(imh_idx_dict.values()))\n",
    "#print(imh_idx_dict)\n",
    "print(max(list(counter.values())))\n",
    "print(min(list(counter.values())))"
   ]
  },
  {
   "cell_type": "code",
   "execution_count": null,
   "metadata": {},
   "outputs": [],
   "source": [
    "fields = dict()\n",
    "fields['identity'] = []\n",
    "for i in range(30000):\n",
    "    fields['identity'].append(imh_idx_dict[i])"
   ]
  },
  {
   "cell_type": "code",
   "execution_count": 118,
   "metadata": {},
   "outputs": [
    {
     "name": "stdout",
     "output_type": "stream",
     "text": [
      "6217\n"
     ]
    }
   ],
   "source": [
    "print(len(set(imh_idx_dict.values())))"
   ]
  },
  {
   "cell_type": "code",
   "execution_count": 87,
   "metadata": {},
   "outputs": [],
   "source": [
    "with open('Age-Gender-Estimate-TF/fname_gender_dict.pkl', 'rb') as handle:\n",
    "    fname_gender_dict = pickle.load(handle)\n",
    "with open('Age-Gender-Estimate-TF/fname_age_dict.pkl', 'rb') as handle:\n",
    "    fname_age_dict = pickle.load(handle)\n",
    "with open('face-classification/fname_race_dict.pkl', 'rb') as handle:\n",
    "    fname_race_dict = pickle.load(handle)"
   ]
  },
  {
   "cell_type": "code",
   "execution_count": 89,
   "metadata": {},
   "outputs": [
    {
     "name": "stdout",
     "output_type": "stream",
     "text": [
      "Counter({'White': 26422, 'Black': 1848, 'Asian': 1730})\n",
      "Counter({'female': 19340, 'male': 10660})\n",
      "Counter({'20-30': 14706, '30-40': 8423, '40-50': 3151, '10-20': 2171, '50-60': 1150, '60-70': 288, '70-80': 105, '80-90': 5, '0-10': 1})\n"
     ]
    }
   ],
   "source": [
    "import collections\n",
    "race_list = list(fname_race_dict.values())\n",
    "race_counter=collections.Counter(race_list)\n",
    "print(race_counter)\n",
    "gender_list = list(fname_gender_dict.values())\n",
    "gender_counter=collections.Counter(gender_list)\n",
    "print(gender_counter)\n",
    "age_list = list(fname_age_dict.values())\n",
    "age_counter=collections.Counter(age_list)\n",
    "print(age_counter)"
   ]
  },
  {
   "cell_type": "code",
   "execution_count": 90,
   "metadata": {},
   "outputs": [],
   "source": [
    "fields['age'] = []\n",
    "fields['gender'] = []\n",
    "fields['race'] = []\n",
    "white_count, black_count, asian_count = 0, 0, 0\n",
    "for i in range(30000):\n",
    "    fields['age'].append(fname_age_dict['../celebahq_resized/{:06d}.png'.format(i)])\n",
    "    fields['gender'].append(fname_gender_dict['../celebahq_resized/{:06d}.png'.format(i)])\n",
    "    fields['race'].append(fname_race_dict['../celebahq_resized/{:06d}.png'.format(i)])"
   ]
  },
  {
   "cell_type": "code",
   "execution_count": null,
   "metadata": {},
   "outputs": [],
   "source": [
    "with open(os.path.join('celeba', 'image_list.txt'), 'rt') as file:\n",
    "    lines = [line.split() for line in file]\n",
    "    for idx, field in enumerate(lines[0]):\n",
    "        print(idx)\n",
    "        print(field)\n",
    "        type = int if field.endswith('idx') else str\n",
    "        fields[field] = [type(line[idx]) for line in lines[1:]]\n",
    "indices = np.array(fields['idx'])"
   ]
  },
  {
   "cell_type": "code",
   "execution_count": 110,
   "metadata": {},
   "outputs": [
    {
     "name": "stdout",
     "output_type": "stream",
     "text": [
      "17311 720 1309\n",
      "3321 204 407\n",
      "9111 1128 421\n",
      "2446 335 219\n"
     ]
    }
   ],
   "source": [
    "female_white_count, female_black_count, female_asian_count = 0,0,0\n",
    "female_white_ids, female_black_ids, female_asian_ids = [],[],[]\n",
    "male_white_count, male_black_count, male_asian_count = 0,0,0\n",
    "male_white_ids, male_black_ids, male_asian_ids = [],[],[]\n",
    "for i in range(30000):\n",
    "    if fields['gender'][i] == 'female':\n",
    "        if fields['race'][i] == 'White':\n",
    "            female_white_count += 1\n",
    "            female_white_ids.append(fields['identity'][i])\n",
    "        elif fields['race'][i] == 'Asian':\n",
    "            female_asian_count += 1\n",
    "            female_asian_ids.append(fields['identity'][i])\n",
    "        else:\n",
    "            female_black_count += 1\n",
    "            female_black_ids.append(fields['identity'][i])\n",
    "    else:\n",
    "        if fields['race'][i] == 'White':\n",
    "            male_white_count += 1\n",
    "            male_white_ids.append(fields['identity'][i])\n",
    "        elif fields['race'][i] == 'Asian':\n",
    "            male_asian_count += 1\n",
    "            male_asian_ids.append(fields['identity'][i])\n",
    "        else:\n",
    "            male_black_count += 1\n",
    "            male_black_ids.append(fields['identity'][i])\n",
    "print(female_white_count, female_black_count, female_asian_count)\n",
    "print(len(set(female_white_ids)), len(set(female_black_ids)), len(set(female_asian_ids)))\n",
    "print(male_white_count, male_black_count, male_asian_count)\n",
    "print(len(set(male_white_ids)), len(set(male_black_ids)), len(set(male_asian_ids)))"
   ]
  },
  {
   "cell_type": "code",
   "execution_count": 111,
   "metadata": {},
   "outputs": [
    {
     "name": "stdout",
     "output_type": "stream",
     "text": [
      "17311 9111\n",
      "720 1128\n",
      "1309 421\n"
     ]
    }
   ],
   "source": [
    "print(female_white_count, male_white_count)\n",
    "print(female_black_count, male_black_count)\n",
    "print(female_asian_count, male_asian_count)"
   ]
  },
  {
   "cell_type": "code",
   "execution_count": 109,
   "metadata": {},
   "outputs": [
    {
     "name": "stdout",
     "output_type": "stream",
     "text": [
      "17311 9111\n",
      "720 1128\n",
      "1309 421\n"
     ]
    }
   ],
   "source": []
  },
  {
   "cell_type": "code",
   "execution_count": 98,
   "metadata": {},
   "outputs": [],
   "source": [
    "white_count, asian_count, black_count = 0, 0, 0\n",
    "with open('image_list_with_fairness_attributes_race_balanced.txt', 'w') as f:\n",
    "    f.write('{:<8s} {:<8s} {:<10s} {:<32s} {:<32s} {:<8s} {:<8s} {:<8s}\\n'.format(\n",
    "            'idx', 'orig_idx', 'orig_file', 'proc_md5', 'final_md5', 'age', 'gender', 'race'))\n",
    "    for i in range(30000):\n",
    "        if fields['race'][i] == 'White':\n",
    "            white_count += 1\n",
    "            if white_count <= 1730:\n",
    "                f.write('{:<8d} {:<8d} {:<10s} {:<32s} {:<32s} {:<8s} {:<8s} {:<8s} {:<8d}\\n'.format(\n",
    "                    fields['idx'][i], fields['orig_idx'][i], fields['orig_file'][i], fields['proc_md5'][i], fields['final_md5'][i], fields['age'][i], fields['gender'][i], fields['race'][i], fields['identity'][i]))\n",
    "        elif fields['race'][i] == 'Asian':\n",
    "            asian_count += 1\n",
    "            if asian_count <= 1730:\n",
    "                f.write('{:<8d} {:<8d} {:<10s} {:<32s} {:<32s} {:<8s} {:<8s} {:<8s} {:<8d}\\n'.format(\n",
    "                    fields['idx'][i], fields['orig_idx'][i], fields['orig_file'][i], fields['proc_md5'][i], fields['final_md5'][i], fields['age'][i], fields['gender'][i], fields['race'][i], fields['identity'][i]))\n",
    "        else:\n",
    "            black_count += 1\n",
    "            if black_count <= 1730:\n",
    "                f.write('{:<8d} {:<8d} {:<10s} {:<32s} {:<32s} {:<8s} {:<8s} {:<8s} {:<8d}\\n'.format(\n",
    "                    fields['idx'][i], fields['orig_idx'][i], fields['orig_file'][i], fields['proc_md5'][i], fields['final_md5'][i], fields['age'][i], fields['gender'][i], fields['race'][i], fields['identity'][i]))"
   ]
  },
  {
   "cell_type": "code",
   "execution_count": 102,
   "metadata": {},
   "outputs": [],
   "source": [
    "young_count, old_count = 0, 0\n",
    "with open('image_list_with_fairness_attributes_age_balanced.txt', 'w') as f:\n",
    "    f.write('{:<8s} {:<8s} {:<10s} {:<32s} {:<32s} {:<8s} {:<8s} {:<8s}\\n'.format(\n",
    "            'idx', 'orig_idx', 'orig_file', 'proc_md5', 'final_md5', 'age', 'gender', 'race'))\n",
    "    for i in range(30000):\n",
    "        age = fields['age'][i]\n",
    "        if age == '0-10' or age == '10-20' or age == '20-30':\n",
    "            young_count += 1\n",
    "            if young_count <= 13122:\n",
    "                f.write('{:<8d} {:<8d} {:<10s} {:<32s} {:<32s} {:<8s} {:<8s} {:<8s} {:<8d}\\n'.format(\n",
    "                    fields['idx'][i], fields['orig_idx'][i], fields['orig_file'][i], fields['proc_md5'][i], fields['final_md5'][i], fields['age'][i], fields['gender'][i], fields['race'][i], fields['identity'][i]))\n",
    "        else:\n",
    "            old_count += 1\n",
    "            if old_count <= 13122:\n",
    "                f.write('{:<8d} {:<8d} {:<10s} {:<32s} {:<32s} {:<8s} {:<8s} {:<8s} {:<8d}\\n'.format(\n",
    "                    fields['idx'][i], fields['orig_idx'][i], fields['orig_file'][i], fields['proc_md5'][i], fields['final_md5'][i], fields['age'][i], fields['gender'][i], fields['race'][i], fields['identity'][i]))"
   ]
  },
  {
   "cell_type": "code",
   "execution_count": 99,
   "metadata": {},
   "outputs": [
    {
     "name": "stdout",
     "output_type": "stream",
     "text": [
      "dict_keys(['identity', 'age', 'gender', 'race', 'idx', 'orig_idx', 'orig_file', 'proc_md5', 'final_md5'])\n"
     ]
    }
   ],
   "source": [
    "male_count, female_count = 0, 0\n",
    "with open('image_list_with_fairness_attributes_gender_balanced.txt', 'w') as f:\n",
    "    f.write('{:<8s} {:<8s} {:<10s} {:<32s} {:<32s} {:<8s} {:<8s} {:<8s}\\n'.format(\n",
    "            'idx', 'orig_idx', 'orig_file', 'proc_md5', 'final_md5', 'age', 'gender', 'race'))\n",
    "    for i in range(30000):\n",
    "        if fields['gender'][i] == 'male':\n",
    "            male_count += 1\n",
    "            if male_count <= 10660:\n",
    "                f.write('{:<8d} {:<8d} {:<10s} {:<32s} {:<32s} {:<8s} {:<8s} {:<8s} {:<8d}\\n'.format(\n",
    "                    fields['idx'][i], fields['orig_idx'][i], fields['orig_file'][i], fields['proc_md5'][i], fields['final_md5'][i], fields['age'][i], fields['gender'][i], fields['race'][i], fields['identity'][i]))\n",
    "        else:\n",
    "            female_count += 1\n",
    "            if female_count <= 10660:\n",
    "                f.write('{:<8d} {:<8d} {:<10s} {:<32s} {:<32s} {:<8s} {:<8s} {:<8s} {:<8d}\\n'.format(\n",
    "                    fields['idx'][i], fields['orig_idx'][i], fields['orig_file'][i], fields['proc_md5'][i], fields['final_md5'][i], fields['age'][i], fields['gender'][i], fields['race'][i], fields['identity'][i]))\n"
   ]
  },
  {
   "cell_type": "code",
   "execution_count": 103,
   "metadata": {},
   "outputs": [
    {
     "name": "stdout",
     "output_type": "stream",
     "text": [
      "6217\n"
     ]
    }
   ],
   "source": [
    "imh_idx_set = set(imh_idx_dict.values())\n",
    "print(len(imh_idx_set))"
   ]
  },
  {
   "cell_type": "code",
   "execution_count": null,
   "metadata": {},
   "outputs": [],
   "source": [
    "with open('image_list_with_fairness_attributes_identity_balanced.txt', 'w') as f:\n",
    "    f.write('{:<8s} {:<8s} {:<10s} {:<32s} {:<32s} {:<8s} {:<8s} {:<8s} {:<8s}\\n'.format(\n",
    "            'idx', 'orig_idx', 'orig_file', 'proc_md5', 'final_md5', 'age', 'gender', 'race', 'identity'))\n",
    "    for i in range(30000):\n",
    "        if fields['identity'][i] in imh_idx_set:\n",
    "            f.write('{:<8d} {:<8d} {:<10s} {:<32s} {:<32s} {:<8s} {:<8s} {:<8s} {:<8d}\\n'.format(\n",
    "                fields['idx'][i], fields['orig_idx'][i], fields['orig_file'][i], fields['proc_md5'][i], fields['final_md5'][i], fields['age'][i], fields['gender'][i], fields['race'][i], fields['identity'][i]))\n",
    "            imh_idx_set.remove(fields['identity'][i])"
   ]
  }
 ],
 "metadata": {
  "kernelspec": {
   "display_name": "Python 3",
   "language": "python",
   "name": "python3"
  },
  "language_info": {
   "codemirror_mode": {
    "name": "ipython",
    "version": 3
   },
   "file_extension": ".py",
   "mimetype": "text/x-python",
   "name": "python",
   "nbconvert_exporter": "python",
   "pygments_lexer": "ipython3",
   "version": "3.6.2"
  }
 },
 "nbformat": 4,
 "nbformat_minor": 2
}
