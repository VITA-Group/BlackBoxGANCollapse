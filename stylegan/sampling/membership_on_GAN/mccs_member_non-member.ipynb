{
 "cells": [
  {
   "cell_type": "code",
   "execution_count": 3,
   "metadata": {},
   "outputs": [],
   "source": [
    "import re\n",
    "import matplotlib.pyplot as plt\n",
    "from math import log10\n",
    "\n",
    "regex = re.compile(r\"(\\d+):\\s+\\d+\\.\\d+:(\\d+\\.?(\\d+)?)\")\n",
    "\n",
    "def read_from_txt(txt):\n",
    "    x_lst = []\n",
    "    y_lst = []\n",
    "    budget_acc_lst = []\n",
    "    step = 0\n",
    "    with open(txt) as fp:\n",
    "        for line in fp:\n",
    "            line = line.rstrip('\\n')\n",
    "            r = re.search(regex, line)\n",
    "            if r is not None:\n",
    "                x_lst.append(log10(float(r.group(1))))\n",
    "                y_lst.append(float(r.group(2)))\n",
    "    return y_lst"
   ]
  },
  {
   "cell_type": "code",
   "execution_count": 5,
   "metadata": {},
   "outputs": [],
   "source": [
    "mccs_celebahq = read_from_txt('unlearning/celebahq.pkl.txt')\n",
    "mccs_ffhq = read_from_txt('unlearning/ffhq.pkl.txt')"
   ]
  },
  {
   "cell_type": "code",
   "execution_count": 19,
   "metadata": {},
   "outputs": [
    {
     "data": {
      "image/png": "[encoded data removed]",
      "text/plain": [
       "<matplotlib.figure.Figure at 0x7f943c0e16a0>"
      ]
     },
     "metadata": {
      "needs_background": "light"
     },
     "output_type": "display_data"
    }
   ],
   "source": [
    "# Normalize\n",
    "kwargs = dict(alpha=1.0, bins=100)\n",
    "\n",
    "# Plot\n",
    "plt.hist(mccs_celebahq, **kwargs, color='b', label='Training')\n",
    "plt.hist(mccs_ffhq, **kwargs, color='r', label='Testing')\n",
    "plt.gca().set(title='MCCS of Training and Testing Data', ylabel='Number')\n",
    "#plt.xlim(0,1)\n",
    "plt.legend()\n",
    "plt.savefig('MCCS.png')"
   ]
  }
 ],
 "metadata": {
  "kernelspec": {
   "display_name": "Python 3",
   "language": "python",
   "name": "python3"
  },
  "language_info": {
   "codemirror_mode": {
    "name": "ipython",
    "version": 3
   },
   "file_extension": ".py",
   "mimetype": "text/x-python",
   "name": "python",
   "nbconvert_exporter": "python",
   "pygments_lexer": "ipython3",
   "version": "3.6.9"
  }
 },
 "nbformat": 4,
 "nbformat_minor": 2
}
